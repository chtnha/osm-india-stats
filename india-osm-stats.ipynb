{
 "cells": [
  {
   "cell_type": "markdown",
   "id": "least-account",
   "metadata": {},
   "source": [
    "# Program to extract length of roads\n",
    "\n",
    "We can extract length of roads from Shapefile or GeoJSON by using **Pandas** and **GeoPandas** modules. <br/>\n",
    "You can download country specific OpenStreetMap data from [GeoFabrik](https://download.geofabrik.de/). The common data formats available are PBF and Shapefiles. "
   ]
  },
  {
   "cell_type": "markdown",
   "id": "acoustic-dining",
   "metadata": {},
   "source": [
    "By conventions, we import `geopandas` as `gpd` and `pandas` as `pd`"
   ]
  },
  {
   "cell_type": "code",
   "execution_count": 8,
   "id": "under-auditor",
   "metadata": {},
   "outputs": [],
   "source": [
    "import geopandas as gpd\n",
    "import pandas as pd\n",
    "import os"
   ]
  },
  {
   "cell_type": "markdown",
   "id": "circular-salem",
   "metadata": {},
   "source": [
    "### Reading Spatial Data"
   ]
  },
  {
   "cell_type": "code",
   "execution_count": 31,
   "id": "adapted-bailey",
   "metadata": {},
   "outputs": [],
   "source": [
    "data_directory = 'Data'\n",
    "filename1 = 'osm_roads.shp'\n",
    "filename2 = 'states-boundary.shp'\n",
    "\n",
    "path1 = os.path.join(data_directory, filename1)\n",
    "path2 = os.path.join(data_directory, filename2)"
   ]
  },
  {
   "cell_type": "markdown",
   "id": "compound-words",
   "metadata": {},
   "source": [
    "GeoPandas provide `read_file()` method that can read almost any vector-based spatial data format including ESRI shapefile, GeoJSON files. <br/> \n",
    "Here we will read `osm_roads.shp` & `states-boundary.shp` files. The results are stored in GeoDataFrames."
   ]
  },
  {
   "cell_type": "code",
   "execution_count": 33,
   "id": "southeast-closing",
   "metadata": {},
   "outputs": [],
   "source": [
    "roads_gdf = gpd.read_file(path1)\n",
    "state_boundary_gdf = gpd.read_file(path2)"
   ]
  },
  {
   "cell_type": "markdown",
   "id": "behavioral-symphony",
   "metadata": {},
   "source": [
    "Print GeoDataFrame information to check all columns"
   ]
  },
  {
   "cell_type": "code",
   "execution_count": 34,
   "id": "fatty-accuracy",
   "metadata": {},
   "outputs": [
    {
     "name": "stdout",
     "output_type": "stream",
     "text": [
      "<class 'geopandas.geodataframe.GeoDataFrame'>\n",
      "RangeIndex: 4543716 entries, 0 to 4543715\n",
      "Data columns (total 11 columns):\n",
      " #   Column    Dtype   \n",
      "---  ------    -----   \n",
      " 0   osm_id    object  \n",
      " 1   code      int64   \n",
      " 2   fclass    object  \n",
      " 3   name      object  \n",
      " 4   ref       object  \n",
      " 5   oneway    object  \n",
      " 6   maxspeed  int64   \n",
      " 7   layer     int64   \n",
      " 8   bridge    object  \n",
      " 9   tunnel    object  \n",
      " 10  geometry  geometry\n",
      "dtypes: geometry(1), int64(3), object(7)\n",
      "memory usage: 381.3+ MB\n",
      "None\n"
     ]
    }
   ],
   "source": [
    "print(roads_gdf.info())"
   ]
  },
  {
   "cell_type": "code",
   "execution_count": 35,
   "id": "applicable-strap",
   "metadata": {},
   "outputs": [
    {
     "name": "stdout",
     "output_type": "stream",
     "text": [
      "<class 'geopandas.geodataframe.GeoDataFrame'>\n",
      "RangeIndex: 36 entries, 0 to 35\n",
      "Data columns (total 2 columns):\n",
      " #   Column    Non-Null Count  Dtype   \n",
      "---  ------    --------------  -----   \n",
      " 0   ST_NM     36 non-null     object  \n",
      " 1   geometry  36 non-null     geometry\n",
      "dtypes: geometry(1), object(1)\n",
      "memory usage: 704.0+ bytes\n",
      "None\n"
     ]
    }
   ],
   "source": [
    "print(state_boundary_gdf.info())"
   ]
  },
  {
   "cell_type": "markdown",
   "id": "serial-funds",
   "metadata": {},
   "source": [
    "Concatenate both road network and states boundary GeoDataFrames using Pandas & `concat()` method"
   ]
  },
  {
   "cell_type": "code",
   "execution_count": 36,
   "id": "figured-taste",
   "metadata": {},
   "outputs": [],
   "source": [
    "gdf = gpd.GeoDataFrame(pd.concat([roads_gdf, state_boundary_gdf]))"
   ]
  },
  {
   "cell_type": "markdown",
   "id": "varied-messaging",
   "metadata": {},
   "source": [
    "Print first 5 rows of concatenated GeoDataFrame"
   ]
  },
  {
   "cell_type": "code",
   "execution_count": 37,
   "id": "expensive-journey",
   "metadata": {},
   "outputs": [
    {
     "data": {
      "text/html": [
       "<div>\n",
       "<style scoped>\n",
       "    .dataframe tbody tr th:only-of-type {\n",
       "        vertical-align: middle;\n",
       "    }\n",
       "\n",
       "    .dataframe tbody tr th {\n",
       "        vertical-align: top;\n",
       "    }\n",
       "\n",
       "    .dataframe thead th {\n",
       "        text-align: right;\n",
       "    }\n",
       "</style>\n",
       "<table border=\"1\" class=\"dataframe\">\n",
       "  <thead>\n",
       "    <tr style=\"text-align: right;\">\n",
       "      <th></th>\n",
       "      <th>osm_id</th>\n",
       "      <th>code</th>\n",
       "      <th>fclass</th>\n",
       "      <th>name</th>\n",
       "      <th>ref</th>\n",
       "      <th>oneway</th>\n",
       "      <th>maxspeed</th>\n",
       "      <th>layer</th>\n",
       "      <th>bridge</th>\n",
       "      <th>tunnel</th>\n",
       "      <th>geometry</th>\n",
       "      <th>ST_NM</th>\n",
       "    </tr>\n",
       "  </thead>\n",
       "  <tbody>\n",
       "    <tr>\n",
       "      <th>0</th>\n",
       "      <td>3191425</td>\n",
       "      <td>5122.0</td>\n",
       "      <td>residential</td>\n",
       "      <td>U2</td>\n",
       "      <td>None</td>\n",
       "      <td>B</td>\n",
       "      <td>0.0</td>\n",
       "      <td>0.0</td>\n",
       "      <td>F</td>\n",
       "      <td>F</td>\n",
       "      <td>LINESTRING (76.33477 10.30729, 76.33477 10.306...</td>\n",
       "      <td>NaN</td>\n",
       "    </tr>\n",
       "    <tr>\n",
       "      <th>1</th>\n",
       "      <td>3191437</td>\n",
       "      <td>5122.0</td>\n",
       "      <td>residential</td>\n",
       "      <td>Housing Board</td>\n",
       "      <td>None</td>\n",
       "      <td>B</td>\n",
       "      <td>0.0</td>\n",
       "      <td>0.0</td>\n",
       "      <td>F</td>\n",
       "      <td>F</td>\n",
       "      <td>LINESTRING (76.33260 10.29993, 76.33327 10.299...</td>\n",
       "      <td>NaN</td>\n",
       "    </tr>\n",
       "    <tr>\n",
       "      <th>2</th>\n",
       "      <td>3194810</td>\n",
       "      <td>5122.0</td>\n",
       "      <td>residential</td>\n",
       "      <td>Market Road</td>\n",
       "      <td>None</td>\n",
       "      <td>B</td>\n",
       "      <td>0.0</td>\n",
       "      <td>0.0</td>\n",
       "      <td>F</td>\n",
       "      <td>F</td>\n",
       "      <td>LINESTRING (76.33898 10.30246, 76.33894 10.302...</td>\n",
       "      <td>NaN</td>\n",
       "    </tr>\n",
       "    <tr>\n",
       "      <th>3</th>\n",
       "      <td>3195126</td>\n",
       "      <td>5114.0</td>\n",
       "      <td>secondary</td>\n",
       "      <td>Police Station Road</td>\n",
       "      <td>MDR</td>\n",
       "      <td>B</td>\n",
       "      <td>0.0</td>\n",
       "      <td>0.0</td>\n",
       "      <td>F</td>\n",
       "      <td>F</td>\n",
       "      <td>LINESTRING (76.33727 10.30187, 76.33901 10.30173)</td>\n",
       "      <td>NaN</td>\n",
       "    </tr>\n",
       "    <tr>\n",
       "      <th>4</th>\n",
       "      <td>3195159</td>\n",
       "      <td>5122.0</td>\n",
       "      <td>residential</td>\n",
       "      <td>Nirmala College Road</td>\n",
       "      <td>None</td>\n",
       "      <td>B</td>\n",
       "      <td>0.0</td>\n",
       "      <td>0.0</td>\n",
       "      <td>F</td>\n",
       "      <td>F</td>\n",
       "      <td>LINESTRING (76.33361 10.29990, 76.33393 10.299...</td>\n",
       "      <td>NaN</td>\n",
       "    </tr>\n",
       "  </tbody>\n",
       "</table>\n",
       "</div>"
      ],
      "text/plain": [
       "    osm_id    code       fclass                  name   ref oneway  maxspeed  \\\n",
       "0  3191425  5122.0  residential                    U2  None      B       0.0   \n",
       "1  3191437  5122.0  residential         Housing Board  None      B       0.0   \n",
       "2  3194810  5122.0  residential           Market Road  None      B       0.0   \n",
       "3  3195126  5114.0    secondary   Police Station Road   MDR      B       0.0   \n",
       "4  3195159  5122.0  residential  Nirmala College Road  None      B       0.0   \n",
       "\n",
       "   layer bridge tunnel                                           geometry  \\\n",
       "0    0.0      F      F  LINESTRING (76.33477 10.30729, 76.33477 10.306...   \n",
       "1    0.0      F      F  LINESTRING (76.33260 10.29993, 76.33327 10.299...   \n",
       "2    0.0      F      F  LINESTRING (76.33898 10.30246, 76.33894 10.302...   \n",
       "3    0.0      F      F  LINESTRING (76.33727 10.30187, 76.33901 10.30173)   \n",
       "4    0.0      F      F  LINESTRING (76.33361 10.29990, 76.33393 10.299...   \n",
       "\n",
       "  ST_NM  \n",
       "0   NaN  \n",
       "1   NaN  \n",
       "2   NaN  \n",
       "3   NaN  \n",
       "4   NaN  "
      ]
     },
     "execution_count": 37,
     "metadata": {},
     "output_type": "execute_result"
    }
   ],
   "source": [
    "gdf.head(n=5)"
   ]
  },
  {
   "cell_type": "markdown",
   "id": "sharp-marsh",
   "metadata": {},
   "source": [
    "Print last 5 rows of concatenated GeoDataFrame"
   ]
  },
  {
   "cell_type": "code",
   "execution_count": 38,
   "id": "annual-journalist",
   "metadata": {},
   "outputs": [
    {
     "data": {
      "text/html": [
       "<div>\n",
       "<style scoped>\n",
       "    .dataframe tbody tr th:only-of-type {\n",
       "        vertical-align: middle;\n",
       "    }\n",
       "\n",
       "    .dataframe tbody tr th {\n",
       "        vertical-align: top;\n",
       "    }\n",
       "\n",
       "    .dataframe thead th {\n",
       "        text-align: right;\n",
       "    }\n",
       "</style>\n",
       "<table border=\"1\" class=\"dataframe\">\n",
       "  <thead>\n",
       "    <tr style=\"text-align: right;\">\n",
       "      <th></th>\n",
       "      <th>osm_id</th>\n",
       "      <th>code</th>\n",
       "      <th>fclass</th>\n",
       "      <th>name</th>\n",
       "      <th>ref</th>\n",
       "      <th>oneway</th>\n",
       "      <th>maxspeed</th>\n",
       "      <th>layer</th>\n",
       "      <th>bridge</th>\n",
       "      <th>tunnel</th>\n",
       "      <th>geometry</th>\n",
       "      <th>ST_NM</th>\n",
       "    </tr>\n",
       "  </thead>\n",
       "  <tbody>\n",
       "    <tr>\n",
       "      <th>31</th>\n",
       "      <td>NaN</td>\n",
       "      <td>NaN</td>\n",
       "      <td>NaN</td>\n",
       "      <td>NaN</td>\n",
       "      <td>NaN</td>\n",
       "      <td>NaN</td>\n",
       "      <td>NaN</td>\n",
       "      <td>NaN</td>\n",
       "      <td>NaN</td>\n",
       "      <td>NaN</td>\n",
       "      <td>MULTIPOLYGON (((79.36626 25.17159, 79.36538 25...</td>\n",
       "      <td>Uttar Pradesh</td>\n",
       "    </tr>\n",
       "    <tr>\n",
       "      <th>32</th>\n",
       "      <td>NaN</td>\n",
       "      <td>NaN</td>\n",
       "      <td>NaN</td>\n",
       "      <td>NaN</td>\n",
       "      <td>NaN</td>\n",
       "      <td>NaN</td>\n",
       "      <td>NaN</td>\n",
       "      <td>NaN</td>\n",
       "      <td>NaN</td>\n",
       "      <td>NaN</td>\n",
       "      <td>MULTIPOLYGON (((88.05099 21.50899, 88.04896 21...</td>\n",
       "      <td>West Bengal</td>\n",
       "    </tr>\n",
       "    <tr>\n",
       "      <th>33</th>\n",
       "      <td>NaN</td>\n",
       "      <td>NaN</td>\n",
       "      <td>NaN</td>\n",
       "      <td>NaN</td>\n",
       "      <td>NaN</td>\n",
       "      <td>NaN</td>\n",
       "      <td>NaN</td>\n",
       "      <td>NaN</td>\n",
       "      <td>NaN</td>\n",
       "      <td>NaN</td>\n",
       "      <td>MULTIPOLYGON (((80.77754 15.86372, 80.77785 15...</td>\n",
       "      <td>Andhra Pradesh</td>\n",
       "    </tr>\n",
       "    <tr>\n",
       "      <th>34</th>\n",
       "      <td>NaN</td>\n",
       "      <td>NaN</td>\n",
       "      <td>NaN</td>\n",
       "      <td>NaN</td>\n",
       "      <td>NaN</td>\n",
       "      <td>NaN</td>\n",
       "      <td>NaN</td>\n",
       "      <td>NaN</td>\n",
       "      <td>NaN</td>\n",
       "      <td>NaN</td>\n",
       "      <td>MULTIPOLYGON (((79.80953 10.87805, 79.80729 10...</td>\n",
       "      <td>Puducherry</td>\n",
       "    </tr>\n",
       "    <tr>\n",
       "      <th>35</th>\n",
       "      <td>NaN</td>\n",
       "      <td>NaN</td>\n",
       "      <td>NaN</td>\n",
       "      <td>NaN</td>\n",
       "      <td>NaN</td>\n",
       "      <td>NaN</td>\n",
       "      <td>NaN</td>\n",
       "      <td>NaN</td>\n",
       "      <td>NaN</td>\n",
       "      <td>NaN</td>\n",
       "      <td>MULTIPOLYGON (((74.38930 22.03234, 74.38946 22...</td>\n",
       "      <td>Maharashtra</td>\n",
       "    </tr>\n",
       "  </tbody>\n",
       "</table>\n",
       "</div>"
      ],
      "text/plain": [
       "   osm_id  code fclass name  ref oneway  maxspeed  layer bridge tunnel  \\\n",
       "31    NaN   NaN    NaN  NaN  NaN    NaN       NaN    NaN    NaN    NaN   \n",
       "32    NaN   NaN    NaN  NaN  NaN    NaN       NaN    NaN    NaN    NaN   \n",
       "33    NaN   NaN    NaN  NaN  NaN    NaN       NaN    NaN    NaN    NaN   \n",
       "34    NaN   NaN    NaN  NaN  NaN    NaN       NaN    NaN    NaN    NaN   \n",
       "35    NaN   NaN    NaN  NaN  NaN    NaN       NaN    NaN    NaN    NaN   \n",
       "\n",
       "                                             geometry           ST_NM  \n",
       "31  MULTIPOLYGON (((79.36626 25.17159, 79.36538 25...   Uttar Pradesh  \n",
       "32  MULTIPOLYGON (((88.05099 21.50899, 88.04896 21...     West Bengal  \n",
       "33  MULTIPOLYGON (((80.77754 15.86372, 80.77785 15...  Andhra Pradesh  \n",
       "34  MULTIPOLYGON (((79.80953 10.87805, 79.80729 10...      Puducherry  \n",
       "35  MULTIPOLYGON (((74.38930 22.03234, 74.38946 22...     Maharashtra  "
      ]
     },
     "execution_count": 38,
     "metadata": {},
     "output_type": "execute_result"
    }
   ],
   "source": [
    "gdf.tail(n=5)"
   ]
  },
  {
   "cell_type": "markdown",
   "id": "twelve-culture",
   "metadata": {},
   "source": [
    "A GeoDataFrame contains a special column called `geometry` <br/> \n",
    "All spatial operations on the GeoDataFrame are applied to the geometry column. It can be accessed using the `geometry` attribute."
   ]
  },
  {
   "cell_type": "code",
   "execution_count": 39,
   "id": "earlier-given",
   "metadata": {},
   "outputs": [
    {
     "name": "stdout",
     "output_type": "stream",
     "text": [
      "0          LINESTRING (76.33477 10.30729, 76.33477 10.306...\n",
      "1          LINESTRING (76.33260 10.29993, 76.33327 10.299...\n",
      "2          LINESTRING (76.33898 10.30246, 76.33894 10.302...\n",
      "3          LINESTRING (76.33727 10.30187, 76.33901 10.30173)\n",
      "4          LINESTRING (76.33361 10.29990, 76.33393 10.299...\n",
      "                                 ...                        \n",
      "4543711    LINESTRING (82.92070 25.64035, 82.92187 25.646...\n",
      "4543712    LINESTRING (82.97270 25.10599, 82.97281 25.10594)\n",
      "4543713    LINESTRING (82.96831 25.10739, 82.96876 25.107...\n",
      "4543714    LINESTRING (78.15619 27.86951, 78.15592 27.86942)\n",
      "4543715    LINESTRING (78.16072 27.87011, 78.16012 27.870...\n",
      "Name: geometry, Length: 4543716, dtype: geometry\n"
     ]
    }
   ],
   "source": [
    "print(roads_gdf.geometry)"
   ]
  },
  {
   "cell_type": "markdown",
   "id": "unexpected-suite",
   "metadata": {},
   "source": [
    "### Filtering Data"
   ]
  },
  {
   "cell_type": "markdown",
   "id": "convinced-lingerie",
   "metadata": {},
   "source": [
    "Filter using based on coordinate based indexing with the `cx` [indexer](https://geopandas.readthedocs.io/en/latest/docs/user_guide/indexing.html).<br/>\n",
    "Let's filter only [National Highways](https://wiki.openstreetmap.org/wiki/India/Tags/Highway) (NH) in India with `ref` and `NH` key and value pair. "
   ]
  },
  {
   "cell_type": "code",
   "execution_count": 40,
   "id": "floppy-omaha",
   "metadata": {},
   "outputs": [],
   "source": [
    "filtered_gdf = roads_gdf[roads_gdf['ref'].str.match('^NH') == True]"
   ]
  },
  {
   "cell_type": "code",
   "execution_count": 41,
   "id": "modified-moral",
   "metadata": {},
   "outputs": [],
   "source": [
    "print(filtered_gdf.head())"
   ]
  },
  {
   "cell_type": "markdown",
   "id": "statistical-thing",
   "metadata": {},
   "source": [
    "Plot filtered roads on map using `plot()` method"
   ]
  },
  {
   "cell_type": "code",
   "execution_count": 41,
   "id": "cleared-irish",
   "metadata": {},
   "outputs": [
    {
     "name": "stdout",
     "output_type": "stream",
     "text": [
      "     osm_id  code   fclass                    name         ref oneway  \\\n",
      "19  4717427  5113  primary         Muthuswamy Road         NH4      F   \n",
      "37  4731769  5112    trunk                    None  NH183;NH85      F   \n",
      "38  4731770  5112    trunk    National Highway 183       NH183      B   \n",
      "39  4747828  5112    trunk  Kollam - Theni Highway       NH183      B   \n",
      "69  7988738  5112    trunk                    None         NH5      B   \n",
      "\n",
      "    maxspeed  layer bridge tunnel  \\\n",
      "19         0      0      F      F   \n",
      "37        50      0      F      F   \n",
      "38        70      0      F      F   \n",
      "39        70      0      F      F   \n",
      "69        40      0      F      F   \n",
      "\n",
      "                                             geometry  \n",
      "19  LINESTRING (80.28444 13.08528, 80.28396 13.085...  \n",
      "37  LINESTRING (77.47408 10.00829, 77.47377 10.008...  \n",
      "38  LINESTRING (77.37157 9.83081, 77.37060 9.83026...  \n",
      "39  LINESTRING (76.96089 9.55778, 76.96093 9.55773...  \n",
      "69  LINESTRING (75.80573 30.89295, 75.80595 30.892...  \n"
     ]
    },
    {
     "data": {
      "text/plain": [
       "<matplotlib.axes._subplots.AxesSubplot at 0x7fbff40e1f10>"
      ]
     },
     "execution_count": 41,
     "metadata": {},
     "output_type": "execute_result"
    },
    {
     "data": {
      "image/png": "[encoded data removed]",
      "text/plain": [
       "<Figure size 432x288 with 1 Axes>"
      ]
     },
     "metadata": {
      "needs_background": "light"
     },
     "output_type": "display_data"
    }
   ],
   "source": [
    "filtered_gdf.plot()"
   ]
  },
  {
   "cell_type": "markdown",
   "id": "hungarian-ultimate",
   "metadata": {},
   "source": [
    "### Set Projections\n",
    "\n",
    "Each GeoDataFrame as a `crs` attribute that contains the projection information. Our datasets are in `EPSG:4326 WGS84 CRS`"
   ]
  },
  {
   "cell_type": "code",
   "execution_count": 42,
   "id": "guilty-batch",
   "metadata": {},
   "outputs": [
    {
     "name": "stdout",
     "output_type": "stream",
     "text": [
      "epsg:4326\n"
     ]
    }
   ],
   "source": [
    "print(filtered_gdf.crs)"
   ]
  },
  {
   "cell_type": "code",
   "execution_count": 43,
   "id": "strong-german",
   "metadata": {},
   "outputs": [
    {
     "name": "stdout",
     "output_type": "stream",
     "text": [
      "EPSG:32643\n"
     ]
    }
   ],
   "source": [
    "roads_reprojected = filtered_gdf.to_crs('EPSG:32643')\n",
    "print(roads_reprojected.crs)"
   ]
  },
  {
   "cell_type": "markdown",
   "id": "listed-aggregate",
   "metadata": {},
   "source": [
    "We can calculate the length of each geometry using the `length` attribute and the result would be in meters. <br/>\n",
    "We can add the `line length` in a new column named length."
   ]
  },
  {
   "cell_type": "code",
   "execution_count": 44,
   "id": "dietary-model",
   "metadata": {},
   "outputs": [],
   "source": [
    "roads_reprojected['length'] = roads_reprojected['geometry'].length"
   ]
  },
  {
   "cell_type": "markdown",
   "id": "presidential-productivity",
   "metadata": {},
   "source": [
    "Let's sum all roads length using `sum()` method and divide it by 1000"
   ]
  },
  {
   "cell_type": "code",
   "execution_count": 45,
   "id": "adult-planet",
   "metadata": {},
   "outputs": [],
   "source": [
    "total_length = roads_reprojected['length'].sum()"
   ]
  },
  {
   "cell_type": "code",
   "execution_count": 46,
   "id": "greenhouse-gather",
   "metadata": {},
   "outputs": [
    {
     "name": "stdout",
     "output_type": "stream",
     "text": [
      "The total length of National Highways in India is 154384.56601106178\n"
     ]
    }
   ],
   "source": [
    "print('The total length of National Highways in India is {}'.format(total_length/1000))"
   ]
  },
  {
   "cell_type": "markdown",
   "id": "prostate-nevada",
   "metadata": {},
   "source": [
    "### Spatial Joins\n",
    "\n",
    "For our task, we need to pull length of NH's in specific states. This can be achieved using another spatial layer `states-boundary.shp` and perform `spatial join` using `sjoin()` method."
   ]
  },
  {
   "cell_type": "code",
   "execution_count": 47,
   "id": "greatest-italic",
   "metadata": {},
   "outputs": [],
   "source": [
    "states_reprojected = state_boundary_gdf.to_crs('EPSG:32643')"
   ]
  },
  {
   "cell_type": "code",
   "execution_count": 48,
   "id": "changed-trance",
   "metadata": {},
   "outputs": [],
   "source": [
    "joined_gdf = gpd.sjoin(roads_reprojected, states_reprojected, how='left', op='intersects')\n"
   ]
  },
  {
   "cell_type": "code",
   "execution_count": 49,
   "id": "monetary-california",
   "metadata": {},
   "outputs": [
    {
     "name": "stdout",
     "output_type": "stream",
     "text": [
      "     osm_id  code   fclass                    name         ref oneway  \\\n",
      "19  4717427  5113  primary         Muthuswamy Road         NH4      F   \n",
      "37  4731769  5112    trunk                    None  NH183;NH85      F   \n",
      "38  4731770  5112    trunk    National Highway 183       NH183      B   \n",
      "39  4747828  5112    trunk  Kollam - Theni Highway       NH183      B   \n",
      "69  7988738  5112    trunk                    None         NH5      B   \n",
      "\n",
      "    maxspeed  layer bridge tunnel  \\\n",
      "19         0      0      F      F   \n",
      "37        50      0      F      F   \n",
      "38        70      0      F      F   \n",
      "39        70      0      F      F   \n",
      "69        40      0      F      F   \n",
      "\n",
      "                                             geometry       length  \\\n",
      "19  LINESTRING (1073590.159 1452568.019, 1073538.8...   455.833138   \n",
      "37  LINESTRING (771221.392 1107346.996, 771187.465...  2504.472430   \n",
      "38  LINESTRING (760117.534 1087625.699, 760011.621...  3258.113132   \n",
      "39  LINESTRING (715228.481 1057131.626, 715232.925...  1571.541501   \n",
      "69  LINESTRING (577006.648 3418016.673, 577027.750...   648.160869   \n",
      "\n",
      "    index_right       ST_NM  \n",
      "19         30.0  Tamil Nadu  \n",
      "37         30.0  Tamil Nadu  \n",
      "38         30.0  Tamil Nadu  \n",
      "39         15.0      Kerala  \n",
      "69          8.0      Punjab  \n"
     ]
    }
   ],
   "source": [
    "print(joined_gdf.head())"
   ]
  },
  {
   "cell_type": "markdown",
   "id": "south-switzerland",
   "metadata": {},
   "source": [
    "## State-wise stats\n",
    "\n",
    "The resulting GeoDataFrame now has the matching column from the intersecting state feature. <br/>\n",
    "We can now sum the length of the NH's and group them by states. This type of group statistics is performed using Panda's `group_by()` method."
   ]
  },
  {
   "cell_type": "code",
   "execution_count": 51,
   "id": "great-candle",
   "metadata": {},
   "outputs": [],
   "source": [
    "statewise_length = joined_gdf.groupby('ST_NM')['length'].sum()/1000"
   ]
  },
  {
   "cell_type": "code",
   "execution_count": 87,
   "id": "subject-inventory",
   "metadata": {},
   "outputs": [
    {
     "name": "stdout",
     "output_type": "stream",
     "text": [
      "ST_NM\n",
      "Andaman & Nicobar                             332.134508\n",
      "Andhra Pradesh                               8571.794672\n",
      "Arunachal Pradesh                            2714.181621\n",
      "Assam                                        4733.895787\n",
      "Bihar                                        6163.976231\n",
      "Chandigarh                                     33.825492\n",
      "Chhattisgarh                                 3702.100326\n",
      "Dadra and Nagar Haveli and Daman and Diu       66.573990\n",
      "Delhi                                         219.679629\n",
      "Goa                                           336.365653\n",
      "Gujarat                                      8919.286697\n",
      "Haryana                                      3861.955285\n",
      "Himachal Pradesh                             2600.270246\n",
      "Jammu & Kashmir                              1778.530735\n",
      "Jharkhand                                    3719.129908\n",
      "Karnataka                                    9277.865407\n",
      "Kerala                                       2029.993093\n",
      "Ladakh                                        786.707203\n",
      "Madhya Pradesh                              10820.506008\n",
      "Maharashtra                                 20368.930809\n",
      "Manipur                                      1765.829918\n",
      "Meghalaya                                    1102.197208\n",
      "Mizoram                                      1435.142555\n",
      "Nagaland                                     1521.422708\n",
      "Odisha                                       6104.278793\n",
      "Puducherry                                    125.725032\n",
      "Punjab                                       4298.089523\n",
      "Rajasthan                                   12325.748988\n",
      "Sikkim                                        561.916082\n",
      "Tamil Nadu                                   8710.000489\n",
      "Telangana                                    5118.456644\n",
      "Tripura                                       618.833352\n",
      "Uttar Pradesh                               14286.412416\n",
      "Uttarakhand                                  3040.733226\n",
      "West Bengal                                  4342.041751\n",
      "Name: length, dtype: float64\n"
     ]
    }
   ],
   "source": [
    "print(statewise_length)"
   ]
  },
  {
   "cell_type": "markdown",
   "id": "further-delaware",
   "metadata": {},
   "source": [
    "## Output\n",
    "\n",
    "The result of the `group_by()` method is a Pandas series. It can be saved to a CSV file using the `to_csv()` method."
   ]
  },
  {
   "cell_type": "code",
   "execution_count": 94,
   "id": "published-repeat",
   "metadata": {},
   "outputs": [],
   "source": [
    "output_filename = 'NH-length-India.csv'\n",
    "output_dir = 'Data/output'\n",
    "\n",
    "output_path = os.path.join(output_dir, output_filename)\n",
    "statewise_length.to_csv(output_path)"
   ]
  },
  {
   "cell_type": "code",
   "execution_count": null,
   "id": "british-combining",
   "metadata": {},
   "outputs": [],
   "source": []
  },
  {
   "cell_type": "code",
   "execution_count": null,
   "id": "continuing-central",
   "metadata": {},
   "outputs": [],
   "source": []
  }
 ],
 "metadata": {
  "kernelspec": {
   "display_name": "Python 3",
   "language": "python",
   "name": "python3"
  },
  "language_info": {
   "codemirror_mode": {
    "name": "ipython",
    "version": 3
   },
   "file_extension": ".py",
   "mimetype": "text/x-python",
   "name": "python",
   "nbconvert_exporter": "python",
   "pygments_lexer": "ipython3",
   "version": "3.8.5"
  }
 },
 "nbformat": 4,
 "nbformat_minor": 5
}
